{
  "nbformat": 4,
  "nbformat_minor": 0,
  "metadata": {
    "colab": {
      "name": "Untitled2.ipynb",
      "version": "0.3.2",
      "provenance": [],
      "collapsed_sections": []
    },
    "kernelspec": {
      "name": "python3",
      "display_name": "Python 3"
    },
    "accelerator": "GPU"
  },
  "cells": [
    {
      "metadata": {
        "id": "pqnzDSdrP3N9",
        "colab_type": "code",
        "colab": {
          "base_uri": "https://localhost:8080/",
          "height": 437
        },
        "outputId": "801326fc-6eeb-4202-cce2-30e09fe00852"
      },
      "cell_type": "code",
      "source": [
        "#INSTALLING THE KAGGLE API\n",
        "\n",
        "!pip install kaggle #installing the kaggle API\n",
        "from googleapiclient.discovery import build\n",
        "import io, os\n",
        "from googleapiclient.http import MediaIoBaseDownload\n",
        "from google.colab import auth\n",
        "\n",
        "auth.authenticate_user()\n",
        "\n",
        "drive_service = build('drive', 'v3')\n",
        "results = drive_service.files().list(\n",
        "        q=\"name = 'kaggle.json'\", fields=\"files(id)\").execute()\n",
        "kaggle_api_key = results.get('files', [])\n",
        "\n",
        "filename = \"/content/.kaggle/kaggle.json\"\n",
        "os.makedirs(os.path.dirname(filename), exist_ok=True)\n",
        "\n",
        "request = drive_service.files().get_media(fileId=kaggle_api_key[0]['id'])\n",
        "fh = io.FileIO(filename, 'wb')\n",
        "downloader = MediaIoBaseDownload(fh, request)\n",
        "done = False\n",
        "while done is False:\n",
        "    status, done = downloader.next_chunk()\n",
        "    print(\"Download %d%%.\" % int(status.progress() * 100))\n",
        "os.chmod(filename, 600)\n",
        "#copying the .json file to the required directory\n",
        "!mkdir ~/.kaggle\n",
        "!cp /content/.kaggle/kaggle.json ~/.kaggle/kaggle.json\n"
      ],
      "execution_count": 1,
      "outputs": [
        {
          "output_type": "stream",
          "text": [
            "Collecting kaggle\n",
            "\u001b[?25l  Downloading https://files.pythonhosted.org/packages/c6/78/832b9a9ec6b3baf8ec566e1f0a695f2fd08d2c94a6797257a106304bfc3c/kaggle-1.4.7.1.tar.gz (52kB)\n",
            "\u001b[K    100% |████████████████████████████████| 61kB 2.3MB/s \n",
            "\u001b[?25hRequirement already satisfied: urllib3<1.23.0,>=1.15 in /usr/local/lib/python3.6/dist-packages (from kaggle) (1.22)\n",
            "Requirement already satisfied: six>=1.10 in /usr/local/lib/python3.6/dist-packages (from kaggle) (1.11.0)\n",
            "Requirement already satisfied: certifi in /usr/local/lib/python3.6/dist-packages (from kaggle) (2018.8.24)\n",
            "Requirement already satisfied: python-dateutil in /usr/local/lib/python3.6/dist-packages (from kaggle) (2.5.3)\n",
            "Requirement already satisfied: requests in /usr/local/lib/python3.6/dist-packages (from kaggle) (2.18.4)\n",
            "Requirement already satisfied: tqdm in /usr/local/lib/python3.6/dist-packages (from kaggle) (4.26.0)\n",
            "Collecting python-slugify (from kaggle)\n",
            "  Downloading https://files.pythonhosted.org/packages/00/ad/c778a6df614b6217c30fe80045b365bfa08b5dd3cb02e8b37a6d25126781/python-slugify-1.2.6.tar.gz\n",
            "Requirement already satisfied: idna<2.7,>=2.5 in /usr/local/lib/python3.6/dist-packages (from requests->kaggle) (2.6)\n",
            "Requirement already satisfied: chardet<3.1.0,>=3.0.2 in /usr/local/lib/python3.6/dist-packages (from requests->kaggle) (3.0.4)\n",
            "Collecting Unidecode>=0.04.16 (from python-slugify->kaggle)\n",
            "\u001b[?25l  Downloading https://files.pythonhosted.org/packages/59/ef/67085e30e8bbcdd76e2f0a4ad8151c13a2c5bce77c85f8cad6e1f16fb141/Unidecode-1.0.22-py2.py3-none-any.whl (235kB)\n",
            "\u001b[K    100% |████████████████████████████████| 235kB 7.3MB/s \n",
            "\u001b[?25hBuilding wheels for collected packages: kaggle, python-slugify\n",
            "  Running setup.py bdist_wheel for kaggle ... \u001b[?25l-\b \b\\\b \bdone\n",
            "\u001b[?25h  Stored in directory: /root/.cache/pip/wheels/44/2c/df/22a6eeb780c36c28190faef6252b739fdc47145fd87a6642d4\n",
            "  Running setup.py bdist_wheel for python-slugify ... \u001b[?25l-\b \bdone\n",
            "\u001b[?25h  Stored in directory: /root/.cache/pip/wheels/e3/65/da/2045deea3098ed7471eca0e2460cfbd3fdfe8c1d6fa6fcac92\n",
            "Successfully built kaggle python-slugify\n",
            "Installing collected packages: Unidecode, python-slugify, kaggle\n",
            "Successfully installed Unidecode-1.0.22 kaggle-1.4.7.1 python-slugify-1.2.6\n",
            "Download 100%.\n"
          ],
          "name": "stdout"
        }
      ]
    },
    {
      "metadata": {
        "id": "7Y1iYxkMQEr_",
        "colab_type": "code",
        "colab": {
          "base_uri": "https://localhost:8080/",
          "height": 168
        },
        "outputId": "d9e9d55d-97e7-4c24-fc57-5e146b00ee65"
      },
      "cell_type": "code",
      "source": [
        "#downloading the files\n",
        "!kaggle competitions download  -c dogs-vs-cats-redux-kernels-edition -p /content/kaggle"
      ],
      "execution_count": 2,
      "outputs": [
        {
          "output_type": "stream",
          "text": [
            "Downloading test.zip to /content/kaggle\n",
            " 98% 265M/271M [00:04<00:00, 66.3MB/s]\n",
            "100% 271M/271M [00:04<00:00, 66.2MB/s]\n",
            "Downloading train.zip to /content/kaggle\n",
            " 98% 531M/544M [00:08<00:00, 69.0MB/s]\n",
            "100% 544M/544M [00:08<00:00, 64.8MB/s]\n",
            "Downloading sample_submission.csv to /content/kaggle\n",
            "  0% 0.00/111k [00:00<?, ?B/s]\n",
            "100% 111k/111k [00:00<00:00, 57.4MB/s]\n"
          ],
          "name": "stdout"
        }
      ]
    },
    {
      "metadata": {
        "id": "bw1fjzvsQH9u",
        "colab_type": "code",
        "colab": {}
      },
      "cell_type": "code",
      "source": [
        "#extracting the training zip file\n",
        "import zipfile\n",
        "\n",
        "local_zip = '/content/kaggle/train.zip'\n",
        "zip_ref = zipfile.ZipFile(local_zip, 'r')\n",
        "zip_ref.extractall('/tmp/utkarsh')\n",
        "zip_ref.close()\n"
      ],
      "execution_count": 0,
      "outputs": []
    },
    {
      "metadata": {
        "id": "sAJmRBapQKmd",
        "colab_type": "code",
        "colab": {}
      },
      "cell_type": "code",
      "source": [
        "#importing required libraries\n",
        "\n",
        "#image precessing\n",
        "import cv2\n",
        "#file handling\n",
        "import os\n",
        "#obvious\n",
        "import numpy as np\n",
        "import pandas as pd\n",
        "#library to know the progress of for loops\n",
        "from tqdm import tqdm"
      ],
      "execution_count": 0,
      "outputs": []
    },
    {
      "metadata": {
        "id": "C0Xog0d9QMaX",
        "colab_type": "code",
        "colab": {}
      },
      "cell_type": "code",
      "source": [
        "#the path where the required files are\n",
        "base_dir = '/tmp/utkarsh'\n",
        "train_dir = os.path.join(base_dir, 'train')\n"
      ],
      "execution_count": 0,
      "outputs": []
    },
    {
      "metadata": {
        "id": "q9aKiiEEQOa-",
        "colab_type": "code",
        "colab": {}
      },
      "cell_type": "code",
      "source": [
        "#reads all the filenames\n",
        "train_fnames = os.listdir(train_dir)"
      ],
      "execution_count": 0,
      "outputs": []
    },
    {
      "metadata": {
        "id": "iY8c_cPoQQ-H",
        "colab_type": "code",
        "colab": {}
      },
      "cell_type": "code",
      "source": [
        "#creating y from the file names andd one hot encoding the data\n",
        "y = []\n",
        "for name in train_fnames:\n",
        "  if(name.split(\".\")[0] == \"dog\"):\n",
        "    y.append((1,0))\n",
        "  else:\n",
        "    y.append((0,1))\n",
        "y = np.array(y)"
      ],
      "execution_count": 0,
      "outputs": []
    },
    {
      "metadata": {
        "id": "tEDHxe5CQTk-",
        "colab_type": "code",
        "colab": {
          "base_uri": "https://localhost:8080/",
          "height": 34
        },
        "outputId": "96d6eb01-45be-4732-d006-aa5f993b39a2"
      },
      "cell_type": "code",
      "source": [
        "y.shape"
      ],
      "execution_count": 8,
      "outputs": [
        {
          "output_type": "execute_result",
          "data": {
            "text/plain": [
              "(25000, 2)"
            ]
          },
          "metadata": {
            "tags": []
          },
          "execution_count": 8
        }
      ]
    },
    {
      "metadata": {
        "id": "evsp8oKFQTnn",
        "colab_type": "code",
        "colab": {}
      },
      "cell_type": "code",
      "source": [
        "#loading images and returning an array containing the features\n",
        "IMG_SIZE = 96\n",
        "def load_images_from_folder(folder):\n",
        "    images = []\n",
        "    for filename in tqdm(os.listdir(folder)):\n",
        "        img = cv2.imread(os.path.join(folder,filename))\n",
        "        img = cv2.resize(img, (IMG_SIZE,IMG_SIZE))\n",
        "        img = img/255\n",
        "        if img is not None:\n",
        "            images.append(img)\n",
        "    return images"
      ],
      "execution_count": 0,
      "outputs": []
    },
    {
      "metadata": {
        "id": "L2zbE5GQQTqH",
        "colab_type": "code",
        "colab": {
          "base_uri": "https://localhost:8080/",
          "height": 34
        },
        "outputId": "4c116ae3-dd8f-42fc-c350-6d0559933dff"
      },
      "cell_type": "code",
      "source": [
        "train1 = load_images_from_folder(\"/tmp/utkarsh/train\")\n",
        "train1 = np.array(train1)"
      ],
      "execution_count": 10,
      "outputs": [
        {
          "output_type": "stream",
          "text": [
            "100%|██████████| 25000/25000 [00:56<00:00, 439.56it/s]\n"
          ],
          "name": "stderr"
        }
      ]
    },
    {
      "metadata": {
        "id": "HpKsx4vYQTsm",
        "colab_type": "code",
        "colab": {}
      },
      "cell_type": "code",
      "source": [
        "#splitting the data into training and testing data\n",
        "from sklearn.model_selection import train_test_split\n",
        "x_train,x_test,y_train,y_test = train_test_split(train1,y,random_state=0,test_size=0.2)"
      ],
      "execution_count": 0,
      "outputs": []
    },
    {
      "metadata": {
        "id": "Ybr4-sYVQTux",
        "colab_type": "code",
        "colab": {}
      },
      "cell_type": "code",
      "source": [
        "#freeing the memory\n",
        "del train1"
      ],
      "execution_count": 0,
      "outputs": []
    },
    {
      "metadata": {
        "id": "6pIg7XzLQTxE",
        "colab_type": "code",
        "colab": {
          "base_uri": "https://localhost:8080/",
          "height": 34
        },
        "outputId": "bd95e5b9-7ba2-4edd-ee67-d2a4f7407a10"
      },
      "cell_type": "code",
      "source": [
        "x_test.shape"
      ],
      "execution_count": 13,
      "outputs": [
        {
          "output_type": "execute_result",
          "data": {
            "text/plain": [
              "(5000, 96, 96, 3)"
            ]
          },
          "metadata": {
            "tags": []
          },
          "execution_count": 13
        }
      ]
    },
    {
      "metadata": {
        "id": "y1Mmeo0VQT2P",
        "colab_type": "code",
        "colab": {
          "base_uri": "https://localhost:8080/",
          "height": 34
        },
        "outputId": "9d2c791a-c1c7-4fd9-9f71-28597f366c27"
      },
      "cell_type": "code",
      "source": [
        "#importing keras and required layers\n",
        "from keras.models import Sequential\n",
        "from keras.layers import Dense, Conv2D, MaxPooling2D, Dropout, Flatten"
      ],
      "execution_count": 14,
      "outputs": [
        {
          "output_type": "stream",
          "text": [
            "Using TensorFlow backend.\n"
          ],
          "name": "stderr"
        }
      ]
    },
    {
      "metadata": {
        "id": "BCiLiscuWV9Y",
        "colab_type": "code",
        "colab": {}
      },
      "cell_type": "code",
      "source": [
        "#binary classification model(cats and dogs)\n",
        "nClasses = 2"
      ],
      "execution_count": 0,
      "outputs": []
    },
    {
      "metadata": {
        "id": "mCNMS5rQQT46",
        "colab_type": "code",
        "colab": {}
      },
      "cell_type": "code",
      "source": [
        "#constructing the model\n",
        "model = Sequential()\n",
        "model.add(Conv2D(32, (3, 3), padding='same', activation='relu', input_shape=(96,96,3)))\n",
        "model.add(Conv2D(32, (3, 3), activation='relu',padding='same'))\n",
        "model.add(MaxPooling2D(pool_size=(2, 2)))\n",
        "model.add(Dropout(0.2))\n",
        " \n",
        "model.add(Conv2D(64, (3, 3), padding='same', activation='relu'))\n",
        "model.add(Conv2D(64, (3, 3), activation='relu',padding='same'))\n",
        "model.add(MaxPooling2D(pool_size=(2, 2)))\n",
        "model.add(Dropout(0.2))\n",
        " \n",
        "model.add(Conv2D(64, (3, 3), padding='same', activation='relu'))\n",
        "model.add(Conv2D(64, (3, 3), activation='relu',padding='same'))\n",
        "model.add(MaxPooling2D(pool_size=(2, 2)))\n",
        "model.add(Dropout(0.2))\n",
        " \n",
        "model.add(Flatten())\n",
        "model.add(Dense(512, activation='relu'))\n",
        "model.add(Dropout(0.2))\n",
        "model.add(Dense(nClasses, activation='softmax'))"
      ],
      "execution_count": 0,
      "outputs": []
    },
    {
      "metadata": {
        "id": "OMOxCQACQT68",
        "colab_type": "code",
        "colab": {
          "base_uri": "https://localhost:8080/",
          "height": 689
        },
        "outputId": "a1afa265-c281-44e0-ef55-2f2b6530a54e"
      },
      "cell_type": "code",
      "source": [
        "model.compile(optimizer='Adam', loss='categorical_crossentropy', metrics=['accuracy'])\n",
        "print(model.summary())"
      ],
      "execution_count": 22,
      "outputs": [
        {
          "output_type": "stream",
          "text": [
            "_________________________________________________________________\n",
            "Layer (type)                 Output Shape              Param #   \n",
            "=================================================================\n",
            "conv2d_19 (Conv2D)           (None, 96, 96, 32)        896       \n",
            "_________________________________________________________________\n",
            "conv2d_20 (Conv2D)           (None, 96, 96, 32)        9248      \n",
            "_________________________________________________________________\n",
            "max_pooling2d_10 (MaxPooling (None, 48, 48, 32)        0         \n",
            "_________________________________________________________________\n",
            "dropout_13 (Dropout)         (None, 48, 48, 32)        0         \n",
            "_________________________________________________________________\n",
            "conv2d_21 (Conv2D)           (None, 48, 48, 64)        18496     \n",
            "_________________________________________________________________\n",
            "conv2d_22 (Conv2D)           (None, 48, 48, 64)        36928     \n",
            "_________________________________________________________________\n",
            "max_pooling2d_11 (MaxPooling (None, 24, 24, 64)        0         \n",
            "_________________________________________________________________\n",
            "dropout_14 (Dropout)         (None, 24, 24, 64)        0         \n",
            "_________________________________________________________________\n",
            "conv2d_23 (Conv2D)           (None, 24, 24, 64)        36928     \n",
            "_________________________________________________________________\n",
            "conv2d_24 (Conv2D)           (None, 24, 24, 64)        36928     \n",
            "_________________________________________________________________\n",
            "max_pooling2d_12 (MaxPooling (None, 12, 12, 64)        0         \n",
            "_________________________________________________________________\n",
            "dropout_15 (Dropout)         (None, 12, 12, 64)        0         \n",
            "_________________________________________________________________\n",
            "flatten_4 (Flatten)          (None, 9216)              0         \n",
            "_________________________________________________________________\n",
            "dense_5 (Dense)              (None, 512)               4719104   \n",
            "_________________________________________________________________\n",
            "dropout_16 (Dropout)         (None, 512)               0         \n",
            "_________________________________________________________________\n",
            "dense_6 (Dense)              (None, 2)                 1026      \n",
            "=================================================================\n",
            "Total params: 4,859,554\n",
            "Trainable params: 4,859,554\n",
            "Non-trainable params: 0\n",
            "_________________________________________________________________\n",
            "None\n"
          ],
          "name": "stdout"
        }
      ]
    },
    {
      "metadata": {
        "id": "WTCbrN3TQT9O",
        "colab_type": "code",
        "colab": {
          "base_uri": "https://localhost:8080/",
          "height": 1714
        },
        "outputId": "8ad07203-39ae-4334-e6e2-a8074811d5ec"
      },
      "cell_type": "code",
      "source": [
        "model.fit(x_train,y_train,epochs =50,batch_size = 100)"
      ],
      "execution_count": 26,
      "outputs": [
        {
          "output_type": "stream",
          "text": [
            "Epoch 1/50\n",
            "20000/20000 [==============================] - 35s 2ms/step - loss: 0.6299 - acc: 0.6306\n",
            "Epoch 2/50\n",
            "20000/20000 [==============================] - 35s 2ms/step - loss: 0.5069 - acc: 0.7488\n",
            "Epoch 3/50\n",
            "20000/20000 [==============================] - 35s 2ms/step - loss: 0.4401 - acc: 0.7935\n",
            "Epoch 4/50\n",
            "20000/20000 [==============================] - 35s 2ms/step - loss: 0.3811 - acc: 0.8256\n",
            "Epoch 5/50\n",
            "20000/20000 [==============================] - 35s 2ms/step - loss: 0.3354 - acc: 0.8517\n",
            "Epoch 6/50\n",
            "20000/20000 [==============================] - 35s 2ms/step - loss: 0.2972 - acc: 0.8693\n",
            "Epoch 7/50\n",
            "20000/20000 [==============================] - 35s 2ms/step - loss: 0.2562 - acc: 0.8911\n",
            "Epoch 8/50\n",
            "20000/20000 [==============================] - 35s 2ms/step - loss: 0.2235 - acc: 0.9061\n",
            "Epoch 9/50\n",
            "20000/20000 [==============================] - 35s 2ms/step - loss: 0.1993 - acc: 0.9169\n",
            "Epoch 10/50\n",
            "20000/20000 [==============================] - 35s 2ms/step - loss: 0.1678 - acc: 0.9321\n",
            "Epoch 11/50\n",
            "20000/20000 [==============================] - 35s 2ms/step - loss: 0.1388 - acc: 0.9466\n",
            "Epoch 12/50\n",
            "20000/20000 [==============================] - 35s 2ms/step - loss: 0.1140 - acc: 0.9547\n",
            "Epoch 13/50\n",
            "20000/20000 [==============================] - 35s 2ms/step - loss: 0.0948 - acc: 0.9632\n",
            "Epoch 14/50\n",
            "20000/20000 [==============================] - 35s 2ms/step - loss: 0.0893 - acc: 0.9675\n",
            "Epoch 15/50\n",
            "20000/20000 [==============================] - 35s 2ms/step - loss: 0.0762 - acc: 0.9705\n",
            "Epoch 16/50\n",
            "20000/20000 [==============================] - 35s 2ms/step - loss: 0.0630 - acc: 0.9772\n",
            "Epoch 17/50\n",
            "20000/20000 [==============================] - 35s 2ms/step - loss: 0.0606 - acc: 0.9785\n",
            "Epoch 18/50\n",
            "20000/20000 [==============================] - 35s 2ms/step - loss: 0.0568 - acc: 0.9797\n",
            "Epoch 19/50\n",
            "20000/20000 [==============================] - 35s 2ms/step - loss: 0.0480 - acc: 0.9821\n",
            "Epoch 20/50\n",
            "20000/20000 [==============================] - 35s 2ms/step - loss: 0.0477 - acc: 0.9832\n",
            "Epoch 21/50\n",
            "20000/20000 [==============================] - 35s 2ms/step - loss: 0.0461 - acc: 0.9841\n",
            "Epoch 22/50\n",
            "20000/20000 [==============================] - 35s 2ms/step - loss: 0.0363 - acc: 0.9871\n",
            "Epoch 23/50\n",
            "20000/20000 [==============================] - 35s 2ms/step - loss: 0.0347 - acc: 0.9887\n",
            "Epoch 24/50\n",
            "20000/20000 [==============================] - 35s 2ms/step - loss: 0.0414 - acc: 0.9866\n",
            "Epoch 25/50\n",
            "20000/20000 [==============================] - 35s 2ms/step - loss: 0.0386 - acc: 0.9866\n",
            "Epoch 26/50\n",
            "20000/20000 [==============================] - 35s 2ms/step - loss: 0.0350 - acc: 0.9887\n",
            "Epoch 27/50\n",
            "20000/20000 [==============================] - 35s 2ms/step - loss: 0.0343 - acc: 0.9884\n",
            "Epoch 28/50\n",
            "20000/20000 [==============================] - 35s 2ms/step - loss: 0.0349 - acc: 0.9885\n",
            "Epoch 29/50\n",
            "20000/20000 [==============================] - 35s 2ms/step - loss: 0.0321 - acc: 0.9895\n",
            "Epoch 30/50\n",
            "20000/20000 [==============================] - 35s 2ms/step - loss: 0.0322 - acc: 0.9902\n",
            "Epoch 31/50\n",
            "20000/20000 [==============================] - 35s 2ms/step - loss: 0.0286 - acc: 0.9900\n",
            "Epoch 32/50\n",
            "20000/20000 [==============================] - 35s 2ms/step - loss: 0.0257 - acc: 0.9908\n",
            "Epoch 33/50\n",
            "20000/20000 [==============================] - 35s 2ms/step - loss: 0.0259 - acc: 0.9919\n",
            "Epoch 34/50\n",
            "20000/20000 [==============================] - 35s 2ms/step - loss: 0.0312 - acc: 0.9901\n",
            "Epoch 35/50\n",
            "20000/20000 [==============================] - 35s 2ms/step - loss: 0.0253 - acc: 0.9918\n",
            "Epoch 36/50\n",
            "20000/20000 [==============================] - 35s 2ms/step - loss: 0.0294 - acc: 0.9914\n",
            "Epoch 37/50\n",
            "20000/20000 [==============================] - 35s 2ms/step - loss: 0.0233 - acc: 0.9928\n",
            "Epoch 38/50\n",
            "20000/20000 [==============================] - 35s 2ms/step - loss: 0.0269 - acc: 0.9906\n",
            "Epoch 39/50\n",
            "20000/20000 [==============================] - 35s 2ms/step - loss: 0.0290 - acc: 0.9903\n",
            "Epoch 40/50\n",
            "20000/20000 [==============================] - 35s 2ms/step - loss: 0.0261 - acc: 0.9917\n",
            "Epoch 41/50\n",
            "20000/20000 [==============================] - 35s 2ms/step - loss: 0.0246 - acc: 0.9917\n",
            "Epoch 42/50\n",
            "20000/20000 [==============================] - 35s 2ms/step - loss: 0.0247 - acc: 0.9921\n",
            "Epoch 43/50\n",
            "20000/20000 [==============================] - 35s 2ms/step - loss: 0.0267 - acc: 0.9916\n",
            "Epoch 44/50\n",
            "20000/20000 [==============================] - 35s 2ms/step - loss: 0.0278 - acc: 0.9920\n",
            "Epoch 45/50\n",
            "20000/20000 [==============================] - 35s 2ms/step - loss: 0.0289 - acc: 0.9907\n",
            "Epoch 46/50\n",
            "20000/20000 [==============================] - 35s 2ms/step - loss: 0.0198 - acc: 0.9935\n",
            "Epoch 47/50\n",
            "20000/20000 [==============================] - 35s 2ms/step - loss: 0.0191 - acc: 0.9938\n",
            "Epoch 48/50\n",
            "20000/20000 [==============================] - 35s 2ms/step - loss: 0.0233 - acc: 0.9932\n",
            "Epoch 49/50\n",
            "20000/20000 [==============================] - 35s 2ms/step - loss: 0.0257 - acc: 0.9915\n",
            "Epoch 50/50\n",
            "20000/20000 [==============================] - 35s 2ms/step - loss: 0.0285 - acc: 0.9912\n"
          ],
          "name": "stdout"
        },
        {
          "output_type": "execute_result",
          "data": {
            "text/plain": [
              "<keras.callbacks.History at 0x7f87f8f81e80>"
            ]
          },
          "metadata": {
            "tags": []
          },
          "execution_count": 26
        }
      ]
    },
    {
      "metadata": {
        "id": "yDpwJs6TQT_p",
        "colab_type": "code",
        "colab": {
          "base_uri": "https://localhost:8080/",
          "height": 34
        },
        "outputId": "60492a8b-40f5-4d4e-a3ee-df850a76f02b"
      },
      "cell_type": "code",
      "source": [
        "loss, acc = model.evaluate(x_test,y_test)"
      ],
      "execution_count": 27,
      "outputs": [
        {
          "output_type": "stream",
          "text": [
            "5000/5000 [==============================] - 4s 744us/step\n"
          ],
          "name": "stdout"
        }
      ]
    },
    {
      "metadata": {
        "id": "AlRcsO-bQUCR",
        "colab_type": "code",
        "colab": {
          "base_uri": "https://localhost:8080/",
          "height": 34
        },
        "outputId": "f96ef308-e96f-463e-b670-629260c531f4"
      },
      "cell_type": "code",
      "source": [
        "print(acc)"
      ],
      "execution_count": 28,
      "outputs": [
        {
          "output_type": "stream",
          "text": [
            "0.8776\n"
          ],
          "name": "stdout"
        }
      ]
    },
    {
      "metadata": {
        "id": "A_K5w6oHQUFL",
        "colab_type": "code",
        "colab": {
          "base_uri": "https://localhost:8080/",
          "height": 34
        },
        "outputId": "8c9aac9b-59df-4bc3-aa00-f689d7b19a96"
      },
      "cell_type": "code",
      "source": [
        "loss2, acc2 = model.evaluate(x_train,y_train)"
      ],
      "execution_count": 29,
      "outputs": [
        {
          "output_type": "stream",
          "text": [
            "20000/20000 [==============================] - 15s 728us/step\n"
          ],
          "name": "stdout"
        }
      ]
    },
    {
      "metadata": {
        "id": "2lQiD5eeQUHm",
        "colab_type": "code",
        "colab": {
          "base_uri": "https://localhost:8080/",
          "height": 34
        },
        "outputId": "8a75f9b9-cdef-4567-d254-9ade0f690e80"
      },
      "cell_type": "code",
      "source": [
        "print(acc2)"
      ],
      "execution_count": 30,
      "outputs": [
        {
          "output_type": "stream",
          "text": [
            "0.99815\n"
          ],
          "name": "stdout"
        }
      ]
    }
  ]
}